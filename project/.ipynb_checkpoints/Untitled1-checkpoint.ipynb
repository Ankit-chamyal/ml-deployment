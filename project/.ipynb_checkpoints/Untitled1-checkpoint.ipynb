{
 "cells": [
  {
   "cell_type": "code",
   "execution_count": 1,
   "id": "1c00f98c-3b90-4c60-8f99-997cee447dba",
   "metadata": {},
   "outputs": [
    {
     "name": "stdout",
     "output_type": "stream",
     "text": [
      "✅ Visualizations saved in ./visualizations/\n"
     ]
    }
   ],
   "source": [
    "# step2_data_visualization.py\n",
    "\n",
    "import pandas as pd\n",
    "import matplotlib.pyplot as plt\n",
    "import seaborn as sns\n",
    "import os\n",
    "\n",
    "# Load the cleaned dataset\n",
    "df = pd.read_csv(\"cleaned_heart_disease_dataset.csv\")\n",
    "\n",
    "# Create output folder\n",
    "output_dir = \"visualizations\"\n",
    "os.makedirs(output_dir, exist_ok=True)\n",
    "\n",
    "# 1. Class Distribution Plot\n",
    "plt.figure(figsize=(6, 4))\n",
    "sns.countplot(x='target', data=df, hue='target', palette='viridis', legend=False)\n",
    "plt.title(\"Heart Disease Risk Distribution (Target Classes)\")\n",
    "plt.xlabel(\"Risk Level (0: No, 1: Yes)\")\n",
    "plt.ylabel(\"Count\")\n",
    "plt.savefig(f\"{output_dir}/class_distribution.png\")\n",
    "plt.close()\n",
    "\n",
    "# 2. Correlation Heatmap\n",
    "plt.figure(figsize=(12, 10))\n",
    "correlation = df.corr()\n",
    "sns.heatmap(correlation, annot=True, fmt=\".2f\", cmap=\"coolwarm\", square=True)\n",
    "plt.title(\"Feature Correlation Heatmap\")\n",
    "plt.savefig(f\"{output_dir}/correlation_heatmap.png\")\n",
    "plt.close()\n",
    "\n",
    "# 3. Key Feature Histograms\n",
    "features = ['age', 'trestbps', 'chol', 'thalach', 'oldpeak']\n",
    "for feature in features:\n",
    "    plt.figure(figsize=(6, 4))\n",
    "    sns.histplot(df[feature], kde=True, bins=30, color='skyblue')\n",
    "    plt.title(f'Distribution of {feature.capitalize()}')\n",
    "    plt.xlabel(feature.capitalize())\n",
    "    plt.ylabel(\"Frequency\")\n",
    "    plt.savefig(f\"{output_dir}/{feature}_histogram.png\")\n",
    "    plt.close()\n",
    "\n",
    "print(f\"✅ Visualizations saved in ./{output_dir}/\")"
   ]
  },
  {
   "cell_type": "code",
   "execution_count": null,
   "id": "57d1b8fe-0603-4f8c-9740-6d5252b25c47",
   "metadata": {},
   "outputs": [],
   "source": []
  }
 ],
 "metadata": {
  "kernelspec": {
   "display_name": "Python 3 (ipykernel)",
   "language": "python",
   "name": "python3"
  },
  "language_info": {
   "codemirror_mode": {
    "name": "ipython",
    "version": 3
   },
   "file_extension": ".py",
   "mimetype": "text/x-python",
   "name": "python",
   "nbconvert_exporter": "python",
   "pygments_lexer": "ipython3",
   "version": "3.12.7"
  }
 },
 "nbformat": 4,
 "nbformat_minor": 5
}
